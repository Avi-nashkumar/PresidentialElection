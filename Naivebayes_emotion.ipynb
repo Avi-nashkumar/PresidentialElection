{
 "cells": [
  {
   "cell_type": "markdown",
   "metadata": {},
   "source": [
    "# NAIVE BAYES"
   ]
  },
  {
   "cell_type": "code",
   "execution_count": 1,
   "metadata": {},
   "outputs": [],
   "source": [
    "#important libraries\n",
    "import pandas as pd\n",
    "import numpy as np\n",
    "import nltk\n",
    "import re\n",
    "#importing stopwords is optional, in this case it decreased accuracy\n",
    "#from nltk.corpus import stopwords\n",
    "import itertools\n",
    "import time\n",
    "\n",
    "\n"
   ]
  },
  {
   "cell_type": "code",
   "execution_count": 2,
   "metadata": {},
   "outputs": [
    {
     "data": {
      "text/html": [
       "<div>\n",
       "<style scoped>\n",
       "    .dataframe tbody tr th:only-of-type {\n",
       "        vertical-align: middle;\n",
       "    }\n",
       "\n",
       "    .dataframe tbody tr th {\n",
       "        vertical-align: top;\n",
       "    }\n",
       "\n",
       "    .dataframe thead th {\n",
       "        text-align: right;\n",
       "    }\n",
       "</style>\n",
       "<table border=\"1\" class=\"dataframe\">\n",
       "  <thead>\n",
       "    <tr style=\"text-align: right;\">\n",
       "      <th></th>\n",
       "      <th>author</th>\n",
       "      <th>date</th>\n",
       "      <th>text</th>\n",
       "    </tr>\n",
       "  </thead>\n",
       "  <tbody>\n",
       "    <tr>\n",
       "      <th>0</th>\n",
       "      <td>R0nnieBergman</td>\n",
       "      <td>2020-10-31 09:24:34</td>\n",
       "      <td>RT @standardnews: I created The Thick of It an...</td>\n",
       "    </tr>\n",
       "    <tr>\n",
       "      <th>1</th>\n",
       "      <td>Godhelpusameric</td>\n",
       "      <td>2020-10-31 09:24:34</td>\n",
       "      <td>RT @realDonaldTrump: “A Biden win would mean t...</td>\n",
       "    </tr>\n",
       "    <tr>\n",
       "      <th>2</th>\n",
       "      <td>Zehub</td>\n",
       "      <td>2020-10-31 09:24:34</td>\n",
       "      <td>VIDEO. Election présidentielle aux États-Unis ...</td>\n",
       "    </tr>\n",
       "    <tr>\n",
       "      <th>3</th>\n",
       "      <td>JamieParrigin</td>\n",
       "      <td>2020-10-31 09:24:34</td>\n",
       "      <td>RT @realDonaldTrump: President Obama used to s...</td>\n",
       "    </tr>\n",
       "    <tr>\n",
       "      <th>4</th>\n",
       "      <td>Powerfader54</td>\n",
       "      <td>2020-10-31 09:24:34</td>\n",
       "      <td>Tucker Carlson: Hunter Biden scandal shows med...</td>\n",
       "    </tr>\n",
       "  </tbody>\n",
       "</table>\n",
       "</div>"
      ],
      "text/plain": [
       "            author                 date  \\\n",
       "0    R0nnieBergman  2020-10-31 09:24:34   \n",
       "1  Godhelpusameric  2020-10-31 09:24:34   \n",
       "2            Zehub  2020-10-31 09:24:34   \n",
       "3    JamieParrigin  2020-10-31 09:24:34   \n",
       "4     Powerfader54  2020-10-31 09:24:34   \n",
       "\n",
       "                                                text  \n",
       "0  RT @standardnews: I created The Thick of It an...  \n",
       "1  RT @realDonaldTrump: “A Biden win would mean t...  \n",
       "2  VIDEO. Election présidentielle aux États-Unis ...  \n",
       "3  RT @realDonaldTrump: President Obama used to s...  \n",
       "4  Tucker Carlson: Hunter Biden scandal shows med...  "
      ]
     },
     "execution_count": 2,
     "metadata": {},
     "output_type": "execute_result"
    }
   ],
   "source": [
    "start_time = time.time()\n",
    "\n",
    "import os\n",
    "#os.chdir('/tmp/guest-pltjjp/Downloads')\n",
    "\n",
    "\n",
    "data = pd.read_csv('TrumpvsBiden.csv')\n",
    "data = data.iloc[:1000,:]\n",
    "data.head()\n",
    "\n"
   ]
  },
  {
   "cell_type": "code",
   "execution_count": 4,
   "metadata": {},
   "outputs": [],
   "source": [
    "#stopset = set(stopwords.words('english'))\n",
    "\n",
    "from nltk.stem.wordnet import WordNetLemmatizer \n",
    "lem = WordNetLemmatizer()\n",
    "\n",
    "#comprehensive cleaning\n",
    "def cleaning(text):\n",
    "    txt = str(text)\n",
    "    txt = re.sub(r\"http\\S+\", \"\", txt)\n",
    "    if len(txt) == 0:\n",
    "        return 'no text'\n",
    "    else:\n",
    "        txt = txt.split()\n",
    "        index = 0\n",
    "        for j in range(len(txt)):\n",
    "            if txt[j][0] == '@':\n",
    "                index = j\n",
    "        txt = np.delete(txt, index)\n",
    "        if len(txt) == 0:\n",
    "            return 'no text'\n",
    "        else:\n",
    "            words = txt[0]\n",
    "            for k in range(len(txt)-1):\n",
    "                words+= \" \" + txt[k+1]\n",
    "            txt = words\n",
    "            txt = re.sub(r'[^\\w]', ' ', txt)\n",
    "            if len(txt) == 0:\n",
    "                return 'no text'\n",
    "            else:\n",
    "                txt = ''.join(''.join(s)[:2] for _, s in itertools.groupby(txt))\n",
    "                txt = txt.replace(\"'\", \"\")\n",
    "                txt = nltk.tokenize.word_tokenize(txt)\n",
    "                #data.content[i] = [w for w in data.content[i] if not w in stopset]\n",
    "                for j in range(len(txt)):\n",
    "                    txt[j] = lem.lemmatize(txt[j], \"v\")\n",
    "                if len(txt) == 0:\n",
    "                    return 'no text'\n",
    "                else:\n",
    "                    return txt\n",
    "                \n",
    "\n",
    "\n",
    "\n",
    "        \n"
   ]
  },
  {
   "cell_type": "code",
   "execution_count": 5,
   "metadata": {},
   "outputs": [
    {
     "data": {
      "text/html": [
       "<div>\n",
       "<style scoped>\n",
       "    .dataframe tbody tr th:only-of-type {\n",
       "        vertical-align: middle;\n",
       "    }\n",
       "\n",
       "    .dataframe tbody tr th {\n",
       "        vertical-align: top;\n",
       "    }\n",
       "\n",
       "    .dataframe thead th {\n",
       "        text-align: right;\n",
       "    }\n",
       "</style>\n",
       "<table border=\"1\" class=\"dataframe\">\n",
       "  <thead>\n",
       "    <tr style=\"text-align: right;\">\n",
       "      <th></th>\n",
       "      <th>author</th>\n",
       "      <th>date</th>\n",
       "      <th>text</th>\n",
       "    </tr>\n",
       "  </thead>\n",
       "  <tbody>\n",
       "    <tr>\n",
       "      <th>0</th>\n",
       "      <td>R0nnieBergman</td>\n",
       "      <td>2020-10-31 09:24:34</td>\n",
       "      <td>[RT, standardnews, I, create, The, Thick, of, ...</td>\n",
       "    </tr>\n",
       "    <tr>\n",
       "      <th>1</th>\n",
       "      <td>Godhelpusameric</td>\n",
       "      <td>2020-10-31 09:24:34</td>\n",
       "      <td>[RT, A, Biden, win, would, mean, the, end, of,...</td>\n",
       "    </tr>\n",
       "    <tr>\n",
       "      <th>2</th>\n",
       "      <td>Zehub</td>\n",
       "      <td>2020-10-31 09:24:34</td>\n",
       "      <td>[Election, présidentielle, aux, États, Unis, c...</td>\n",
       "    </tr>\n",
       "    <tr>\n",
       "      <th>3</th>\n",
       "      <td>JamieParrigin</td>\n",
       "      <td>2020-10-31 09:24:34</td>\n",
       "      <td>[RT, President, Obama, use, to, say, that, if,...</td>\n",
       "    </tr>\n",
       "    <tr>\n",
       "      <th>4</th>\n",
       "      <td>Powerfader54</td>\n",
       "      <td>2020-10-31 09:24:34</td>\n",
       "      <td>[Carlson, Hunter, Biden, scandal, show, media,...</td>\n",
       "    </tr>\n",
       "  </tbody>\n",
       "</table>\n",
       "</div>"
      ],
      "text/plain": [
       "            author                 date  \\\n",
       "0    R0nnieBergman  2020-10-31 09:24:34   \n",
       "1  Godhelpusameric  2020-10-31 09:24:34   \n",
       "2            Zehub  2020-10-31 09:24:34   \n",
       "3    JamieParrigin  2020-10-31 09:24:34   \n",
       "4     Powerfader54  2020-10-31 09:24:34   \n",
       "\n",
       "                                                text  \n",
       "0  [RT, standardnews, I, create, The, Thick, of, ...  \n",
       "1  [RT, A, Biden, win, would, mean, the, end, of,...  \n",
       "2  [Election, présidentielle, aux, États, Unis, c...  \n",
       "3  [RT, President, Obama, use, to, say, that, if,...  \n",
       "4  [Carlson, Hunter, Biden, scandal, show, media,...  "
      ]
     },
     "execution_count": 5,
     "metadata": {},
     "output_type": "execute_result"
    }
   ],
   "source": [
    "data['text'] = data['text'].map(lambda x: cleaning(x))\n",
    "data.head()"
   ]
  },
  {
   "cell_type": "code",
   "execution_count": 6,
   "metadata": {},
   "outputs": [],
   "source": [
    "data = data.reset_index(drop=True)\n",
    "for i in range(len(data)):\n",
    "    words = data.text[i][0]\n",
    "    for j in range(len(data.text[i])-1):\n",
    "        words+= ' ' + data.text[i][j+1]\n",
    "    data.text[i] = words\n",
    "    \n",
    "x = int(np.round(len(data)*0.75))\n",
    "train = data.iloc[:x,:].reset_index(drop = True)\n",
    "test = data.iloc[x:,:].reset_index(drop = True)\n",
    "    \n"
   ]
  },
  {
   "cell_type": "code",
   "execution_count": 7,
   "metadata": {},
   "outputs": [],
   "source": [
    "from textblob.classifiers import NaiveBayesClassifier as NBC\n",
    "\n",
    "training_corpus = []\n",
    "\n",
    "for k in range(len(train)):\n",
    "    training_corpus.append((train.text[k], train.text[k]))\n",
    "    \n",
    "test_corpus = []\n",
    "\n",
    "for l in range(len(test)):\n",
    "    test_corpus.append((test.text[l], test.text[l]))\n",
    "\n"
   ]
  },
  {
   "cell_type": "code",
   "execution_count": 8,
   "metadata": {},
   "outputs": [
    {
     "name": "stdout",
     "output_type": "stream",
     "text": [
      "0.024\n"
     ]
    }
   ],
   "source": [
    "model = NBC(training_corpus)\n",
    "\n",
    "print(model.accuracy(test_corpus))\n",
    "\n"
   ]
  },
  {
   "cell_type": "code",
   "execution_count": null,
   "metadata": {},
   "outputs": [],
   "source": [
    "from sklearn.metrics import classification_report\n",
    "\n",
    "predictions = []\n",
    "for m in range(len(test)):\n",
    "    predictions.append(model.classify(test.text[m]))\n",
    "print(classification_report(test, predictions))\n",
    "    \n"
   ]
  },
  {
   "cell_type": "code",
   "execution_count": null,
   "metadata": {},
   "outputs": [],
   "source": [
    "predictions_df = pd.DataFrame({'Content':test.text, 'Emotion_predicted':predictions, 'Emotion_actual':test.sentiment})\n",
    "predictions_df.to_csv('naive_emotion_recognizer.csv', index = False)\n",
    "\n",
    "elapsed_time = time.time() - start_time\n",
    "print (\"processing time:\", elapsed_time, \"seconds\")"
   ]
  },
  {
   "cell_type": "code",
   "execution_count": null,
   "metadata": {},
   "outputs": [],
   "source": []
  }
 ],
 "metadata": {
  "kernelspec": {
   "display_name": "Python 3",
   "language": "python",
   "name": "python3"
  },
  "language_info": {
   "codemirror_mode": {
    "name": "ipython",
    "version": 3
   },
   "file_extension": ".py",
   "mimetype": "text/x-python",
   "name": "python",
   "nbconvert_exporter": "python",
   "pygments_lexer": "ipython3",
   "version": "3.6.5"
  }
 },
 "nbformat": 4,
 "nbformat_minor": 2
}
