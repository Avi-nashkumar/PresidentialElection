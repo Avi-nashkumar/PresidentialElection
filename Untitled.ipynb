{
 "cells": [
  {
   "cell_type": "code",
   "execution_count": 1,
   "metadata": {},
   "outputs": [],
   "source": [
    "import re \n",
    "import tweepy \n",
    "from tweepy import OAuthHandler \n",
    "from textblob import TextBlob \n",
    "import matplotlib.pyplot as plt\n",
    "#from wordcloud import WordCloud \n",
    "from collections import Counter"
   ]
  },
  {
   "cell_type": "code",
   "execution_count": 4,
   "metadata": {},
   "outputs": [
    {
     "name": "stdout",
     "output_type": "stream",
     "text": [
      "Collecting textblob\n",
      "  Downloading textblob-0.15.3-py2.py3-none-any.whl (636 kB)\n",
      "Requirement already satisfied: nltk>=3.1 in c:\\users\\avinash\\anaconda3\\lib\\site-packages (from textblob) (3.3)\n",
      "Requirement already satisfied: six in c:\\users\\avinash\\anaconda3\\lib\\site-packages (from nltk>=3.1->textblob) (1.11.0)\n",
      "Installing collected packages: textblob\n",
      "Successfully installed textblob-0.15.3\n"
     ]
    },
    {
     "name": "stderr",
     "output_type": "stream",
     "text": [
      "WARNING: You are using pip version 20.2.3; however, version 20.2.4 is available.\n",
      "You should consider upgrading via the 'C:\\Users\\Avinash\\Anaconda3\\python.exe -m pip install --upgrade pip' command.\n"
     ]
    }
   ],
   "source": [
    "import sys\n",
    "!{sys.executable} -m pip install textblob"
   ]
  },
  {
   "cell_type": "code",
   "execution_count": 2,
   "metadata": {},
   "outputs": [],
   "source": [
    "consumer_key = 'Fkq1YtWMXJfm7rqFQe6bUMKnk'\n",
    "consumer_secret = 'tbQFEXaYskF6vfHMN0xpBhjuDGIYP6vpNk4TYEsbn3ETOj6YKY'\n",
    "access_token = '1254116935006072833-4lYrmDIsHq9wbVan3VDtdzwkeWe6Nc'\n",
    "access_token_secret = 'f9zpd5uYABZCiK28Cixp5kR3dy6bFbXybDfwiWRMFvaa3'\n"
   ]
  },
  {
   "cell_type": "code",
   "execution_count": 3,
   "metadata": {},
   "outputs": [],
   "source": [
    "authenticate= tweepy.OAuthHandler(consumer_key,consumer_secret)\n",
    "authenticate.set_access_token(access_token,access_token_secret)\n",
    "api= tweepy.API(authenticate, wait_on_rate_limit= True)"
   ]
  },
  {
   "cell_type": "code",
   "execution_count": 4,
   "metadata": {},
   "outputs": [
    {
     "name": "stdout",
     "output_type": "stream",
     "text": [
      "1)Day 13- Day 22\n",
      "Started revising the java. From primitive and non-primitive data types to interfaces,inheritance,Typecasting- covered all these with practice problems . The idea is to strengthen the core concepts of java before building the open apps. @OAN_OpenApps \n",
      "#100DaysOfCode\n",
      "\n",
      "2)Day 12:\n",
      "Too much reading without coding is not good in the path of learning in the tech world. So, started coding in Java and created the genesis block, first block and second block of the blockchain. Full code from the scratch on GitHub.\n",
      "@OAN_OpenApps #Blockchain \n",
      "#100DaysOfCode\n",
      "\n",
      "3)Day 11:\n",
      "Read about forking - Hard fork and Soft fork in details which also lead to me knowing how Bitcoin cash came into existence. \n",
      "@OAN_OpenApps \n",
      "#Bitcoin #Blockchain #Ethereum\n",
      "#100DaysOfCode\n",
      "\n",
      "4)The hard work put in by the @blockchainedind team in preparing the structure of #100DaysOfCode program is so visible when you are part of the program. Currently I am on Day 20 and I never needed to look for other sources outside of the material they provide.Brilliant!\n",
      "#Blockchain\n",
      "\n",
      "5)Day 10:\n",
      "Jumped to hash function and read about popular hash functions like SHA-256, MD 5, Keccak-256 etc. Also got to know how double spending is tackled in the bitcoin network.\n",
      "@OAN_OpenApps @blockchainedind \n",
      "#blockchain #Bitcoin \n",
      "#100DaysOfCode\n",
      "\n",
      "6)Day 9:\n",
      "On this day, i learnt about symmetric and asymmetric  cryptography, how public and private keys are used and how digital signatures are used to sign transactions.\n",
      "This is a topic of my interest. So went a step further to read about popular algos like AES,DES\n",
      "#100DaysOfCode\n",
      "\n",
      "7)Day 8:\n",
      "This day was characterised by reading about basic #ethereum  terminologies like how gas price and gas limit works.\n",
      "#100DaysOfCode\n",
      "\n",
      "8)Day 7:\n",
      "Learnt about the alternatives of POW. Those are Proof of Stake, proof of Burn, Proof of Capacity, Proof of Elapsed Time and Proof of Activity. POS is gaining much popularity these days as Ethereum 2.0 is implementing it. \n",
      "@OAN_OpenApps \n",
      "#100DaysOfCode\n",
      "\n",
      "9)Day 6:\n",
      "On my way to learn about the open application network, I used this day to understand the core concepts behind the proof-of-work, the advantages it provide, the challenges and the threats behind using this protocol.\n",
      "@OAN_OpenApps \n",
      "#100DaysOfCode\n",
      "\n",
      "10)Day 5:\n",
      "This day was invested in understanding the block anatomy like nonce, merkle tree, timestamp etc and an overview of consensus mechanism followed by the network.\n",
      "#100DaysOfCode\n",
      "\n",
      "11)Day 4:\n",
      "Permissioned blockchains always gave tough time to me. So decided to invest this day to clear all my doubts regarding how group of organisations also can regulate the blockchain for the specific use cases albeit it raises question over decentralisation.\n",
      "#100DaysOfCode\n",
      "\n",
      "12)@RobotProud Thanks Robot😁\n",
      "\n",
      "13)Day 3:\n",
      "Dived deeper into the concepts of how candidate blocks work by collecting transactions, the nonce, the public and private blockchains. Also covered how blockchain is being used in industries for voting, supply chain, digital certificates etc.\n",
      "#100DaysOfCode\n",
      "\n",
      "14)Day 2:\n",
      "Jumped into bitcoin mining part and the consensus algorithm used in the network. The miners are awarded for the resources they use to compute the complex mathematical problem and receive the reward which is halved after every 210000 + transaction fees.\n",
      "#100DaysOfCode\n",
      "\n",
      "15)Day 1:\n",
      "The content of the first day focussed on Bitcoin and how it paved the way for other applications in blockchain over the years, how blockchain is different from centralised systems, distributed ledger and transaction verification.\n",
      "#100DaysOfCode\n",
      "\n",
      "16)Thread:\n",
      "#100DaysOfCode under @blockchainedind @OAN_OpenApps \n",
      "The onboarding of 40+ selected students and professionals happened on 2nd oct where we were introduced to each other. The session also laid emphasis on the relevance and significance of open application networks .\n",
      "\n",
      "17)The ongoing #covid19 has also seen the rise of number of scams in the name of internships. Apparently, students are asked to sell some courses and are awarded internship certificates😁. What the hell am I supposed to do with that certificate? Can't even flaunt.\n",
      "\n",
      "18)RT @Melt_Dem: 1/ the crypto fundraising scene is *crazy* right now. \n",
      "\n",
      "there's so much money chasing every deal, so many new funds, and ever…\n",
      "\n",
      "19)That phase of the life when I started learning #MachineLearning . Finally I think now I am eligible enough to write 'Machine Learning Enthusiast' in my bio.\n",
      "\n",
      "20)When nobody is attending your webinar, call  google, employees and organise a webinar with a fancy poster titled- \"How to get job in google\". It will surely work.\n",
      "#Trends\n",
      "\n",
      "21)Are you even a cofounder if you are not virtue signalling on @LinkedIn with 500 words posts regularly?\n",
      "\n",
      "22)RT @aparanjape: M.S. Dhoni - a great compilation by @Amul_Coop \n",
      "\n",
      "https://t.co/67cP7qj1SL\n",
      "\n"
     ]
    }
   ],
   "source": [
    "posts = api.user_timeline(screen_name = 'avi_avi_nash', count = 100, lang='en',tweet_mode=\"extended\")\n",
    "i=1\n",
    "for tweet in posts[0:22]:\n",
    "    print(str(i)+\")\"+tweet.full_text+\"\\n\")\n",
    "    i+=1\n",
    "    "
   ]
  },
  {
   "cell_type": "code",
   "execution_count": null,
   "metadata": {},
   "outputs": [],
   "source": []
  }
 ],
 "metadata": {
  "kernelspec": {
   "display_name": "Python 3",
   "language": "python",
   "name": "python3"
  },
  "language_info": {
   "codemirror_mode": {
    "name": "ipython",
    "version": 3
   },
   "file_extension": ".py",
   "mimetype": "text/x-python",
   "name": "python",
   "nbconvert_exporter": "python",
   "pygments_lexer": "ipython3",
   "version": "3.6.5"
  }
 },
 "nbformat": 4,
 "nbformat_minor": 2
}
